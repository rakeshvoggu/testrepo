{
 "cells": [
  {
   "cell_type": "markdown",
   "id": "8c2c8168-1075-431b-a85d-4506a9d4258b",
   "metadata": {},
   "source": [
    "# Data Science Tools and Ecosystem"
   ]
  },
  {
   "cell_type": "markdown",
   "id": "3f692e12-4622-4a08-95b2-3a21d77aadd4",
   "metadata": {},
   "source": [
    "In this notebook, Data Science Tools and Ecosystem are summarized."
   ]
  },
  {
   "cell_type": "markdown",
   "id": "5f1103aa-e044-4c93-8451-d7216924430c",
   "metadata": {},
   "source": [
    "Some of the popular languages that Data Scientists use are:\n",
    "1. Python\n",
    "2. R\n",
    "3. Java\n",
    "4. SQL\n",
    "5. C++\n",
    "6. MATLAB\n",
    "7. Julia\n",
    "8. Scala\n"
   ]
  },
  {
   "cell_type": "markdown",
   "id": "2ce732c3-e40b-4b8f-ac1a-ed1bffbb6dd8",
   "metadata": {},
   "source": [
    "Some of the commonly used libraries used by Data Scientists include:\n",
    "1. NumPy\n",
    "2. Pandas\n",
    "3. MatPlotLib\n",
    "4. Seaborn\n",
    "5. Scikit_Learn\n",
    "6. TensorFlow\n",
    "7. Keras"
   ]
  },
  {
   "cell_type": "markdown",
   "id": "06d20d5e-8494-4f05-87ff-89bf3561b2f0",
   "metadata": {},
   "source": [
    "| Data Science Tools |\n",
    "| ------------- | \n",
    "| Tableau |\n",
    "| SAS |\n",
    "| Apache Hadoop |"
   ]
  },
  {
   "cell_type": "markdown",
   "id": "32cb4646-291b-47da-8afc-f672e7e7bc85",
   "metadata": {},
   "source": [
    "### Below are a few examples of evaluating arithmetic expressions in Python"
   ]
  },
  {
   "cell_type": "code",
   "execution_count": 4,
   "id": "4255347e-4daf-48df-800f-60b374be6201",
   "metadata": {},
   "outputs": [
    {
     "data": {
      "text/plain": [
       "17"
      ]
     },
     "execution_count": 4,
     "metadata": {},
     "output_type": "execute_result"
    }
   ],
   "source": [
    "# This a simple arithmetic expression to multiply then add integers\n",
    "(3*4)+5"
   ]
  },
  {
   "cell_type": "code",
   "execution_count": 5,
   "id": "01571826-7e5d-46bc-a2e8-bf8e7ca6ed2f",
   "metadata": {},
   "outputs": [
    {
     "data": {
      "text/plain": [
       "3.3333333333333335"
      ]
     },
     "execution_count": 5,
     "metadata": {},
     "output_type": "execute_result"
    }
   ],
   "source": [
    "# This will convert 200 minutes to hours by diving by 60\n",
    "200/60"
   ]
  },
  {
   "cell_type": "markdown",
   "id": "63896e61-92ea-433a-8ca8-2a19ae1e170d",
   "metadata": {},
   "source": [
    "__Objectives:__\n",
    "* List popular languages for Data Science\n",
    "* List popular machine learning databases for Data Science\n",
    "* List popular libraries for  Data Science"
   ]
  },
  {
   "cell_type": "markdown",
   "id": "9b0b2d13-b6c3-45a4-9c3b-daa42178fe10",
   "metadata": {},
   "source": [
    "## Author\n",
    "Rakesh Voggu"
   ]
  },
  {
   "cell_type": "code",
   "execution_count": null,
   "id": "a00f5def-af39-442b-b7e3-7f1b71066709",
   "metadata": {},
   "outputs": [],
   "source": []
  }
 ],
 "metadata": {
  "kernelspec": {
   "display_name": "Python 3 (ipykernel)",
   "language": "python",
   "name": "python3"
  },
  "language_info": {
   "codemirror_mode": {
    "name": "ipython",
    "version": 3
   },
   "file_extension": ".py",
   "mimetype": "text/x-python",
   "name": "python",
   "nbconvert_exporter": "python",
   "pygments_lexer": "ipython3",
   "version": "3.12.8"
  }
 },
 "nbformat": 4,
 "nbformat_minor": 5
}
